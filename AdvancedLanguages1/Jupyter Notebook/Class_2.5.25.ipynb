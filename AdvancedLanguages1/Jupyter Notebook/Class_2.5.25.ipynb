{
 "cells": [
  {
   "cell_type": "code",
   "execution_count": 21,
   "id": "c94a4223-0838-4845-a989-5343ee3a363d",
   "metadata": {},
   "outputs": [
    {
     "name": "stdout",
     "output_type": "stream",
     "text": [
      "i is  1  k is  1  Results =  1\n",
      "i is  1  k is  2  Results =  2\n",
      "i is  1  k is  3  Results =  3\n",
      "i is  1  k is  4  Results =  4\n",
      "i is  1  k is  5  Results =  5\n",
      "i is  1  k is  6  Results =  6\n",
      "i is  1  k is  7  Results =  7\n",
      "i is  1  k is  8  Results =  8\n",
      "i is  1  k is  9  Results =  9\n",
      "i is  2  k is  1  Results =  2\n",
      "i is  2  k is  2  Results =  4\n",
      "i is  2  k is  3  Results =  6\n",
      "i is  2  k is  4  Results =  8\n",
      "i is  2  k is  5  Results =  10\n",
      "i is  2  k is  6  Results =  12\n",
      "i is  2  k is  7  Results =  14\n",
      "i is  2  k is  8  Results =  16\n",
      "i is  2  k is  9  Results =  18\n",
      "i is  3  k is  1  Results =  3\n",
      "i is  3  k is  2  Results =  6\n",
      "i is  3  k is  3  Results =  9\n",
      "i is  3  k is  4  Results =  12\n",
      "i is  3  k is  5  Results =  15\n",
      "i is  3  k is  6  Results =  18\n",
      "i is  3  k is  7  Results =  21\n",
      "i is  3  k is  8  Results =  24\n",
      "i is  3  k is  9  Results =  27\n",
      "i is  4  k is  1  Results =  4\n",
      "i is  4  k is  2  Results =  8\n",
      "i is  4  k is  3  Results =  12\n",
      "i is  4  k is  4  Results =  16\n",
      "i is  4  k is  5  Results =  20\n",
      "i is  4  k is  6  Results =  24\n",
      "i is  4  k is  7  Results =  28\n",
      "i is  4  k is  8  Results =  32\n",
      "i is  4  k is  9  Results =  36\n",
      "i is  5  k is  1  Results =  5\n",
      "i is  5  k is  2  Results =  10\n",
      "i is  5  k is  3  Results =  15\n",
      "i is  5  k is  4  Results =  20\n",
      "i is  5  k is  5  Results =  25\n",
      "i is  5  k is  6  Results =  30\n",
      "i is  5  k is  7  Results =  35\n",
      "i is  5  k is  8  Results =  40\n",
      "i is  5  k is  9  Results =  45\n",
      "i is  6  k is  1  Results =  6\n",
      "i is  6  k is  2  Results =  12\n",
      "i is  6  k is  3  Results =  18\n",
      "i is  6  k is  4  Results =  24\n",
      "i is  6  k is  5  Results =  30\n",
      "i is  6  k is  6  Results =  36\n",
      "i is  6  k is  7  Results =  42\n",
      "i is  6  k is  8  Results =  48\n",
      "i is  6  k is  9  Results =  54\n",
      "i is  7  k is  1  Results =  7\n",
      "i is  7  k is  2  Results =  14\n",
      "i is  7  k is  3  Results =  21\n",
      "i is  7  k is  4  Results =  28\n",
      "i is  7  k is  5  Results =  35\n",
      "i is  7  k is  6  Results =  42\n",
      "i is  7  k is  7  Results =  49\n",
      "i is  7  k is  8  Results =  56\n",
      "i is  7  k is  9  Results =  63\n",
      "i is  8  k is  1  Results =  8\n",
      "i is  8  k is  2  Results =  16\n",
      "i is  8  k is  3  Results =  24\n",
      "i is  8  k is  4  Results =  32\n",
      "i is  8  k is  5  Results =  40\n",
      "i is  8  k is  6  Results =  48\n",
      "i is  8  k is  7  Results =  56\n",
      "i is  8  k is  8  Results =  64\n",
      "i is  8  k is  9  Results =  72\n",
      "i is  9  k is  1  Results =  9\n",
      "i is  9  k is  2  Results =  18\n",
      "i is  9  k is  3  Results =  27\n",
      "i is  9  k is  4  Results =  36\n",
      "i is  9  k is  5  Results =  45\n",
      "i is  9  k is  6  Results =  54\n",
      "i is  9  k is  7  Results =  63\n",
      "i is  9  k is  8  Results =  72\n",
      "i is  9  k is  9  Results =  81\n"
     ]
    }
   ],
   "source": [
    "for i in range(1,10):\n",
    "\n",
    "    if i == 5:\n",
    "        break\n",
    "    \n",
    "    for k in range(1,10):\n",
    "        print(\"i is \", i, \" k is \", k, \" Results = \", i*k)\n"
   ]
  },
  {
   "cell_type": "code",
   "execution_count": 26,
   "id": "82a3c421-1b56-4492-a433-e5bcc116ed73",
   "metadata": {},
   "outputs": [
    {
     "name": "stdout",
     "output_type": "stream",
     "text": [
      "i is  1  k is  1  Results =  1\n",
      "i is  1  k is  2  Results =  2\n",
      "i is  1  k is  3  Results =  3\n",
      "i is  1  k is  4  Results =  4\n",
      "i is  1  k is  5  Results =  5\n",
      "i is  1  k is  6  Results =  6\n",
      "i is  1  k is  7  Results =  7\n",
      "i is  1  k is  8  Results =  8\n",
      "i is  1  k is  9  Results =  9\n",
      "i is  2  k is  1  Results =  2\n",
      "i is  2  k is  2  Results =  4\n",
      "i is  2  k is  3  Results =  6\n",
      "i is  2  k is  4  Results =  8\n",
      "i is  2  k is  5  Results =  10\n",
      "i is  2  k is  6  Results =  12\n",
      "i is  2  k is  7  Results =  14\n",
      "i is  2  k is  8  Results =  16\n",
      "i is  2  k is  9  Results =  18\n",
      "i is  3  k is  1  Results =  3\n",
      "i is  3  k is  2  Results =  6\n",
      "i is  3  k is  3  Results =  9\n",
      "i is  3  k is  4  Results =  12\n",
      "i is  3  k is  5  Results =  15\n",
      "i is  3  k is  6  Results =  18\n",
      "i is  3  k is  7  Results =  21\n",
      "i is  3  k is  8  Results =  24\n",
      "i is  3  k is  9  Results =  27\n",
      "i is  4  k is  1  Results =  4\n",
      "i is  4  k is  2  Results =  8\n",
      "i is  4  k is  3  Results =  12\n",
      "i is  4  k is  4  Results =  16\n",
      "i is  4  k is  5  Results =  20\n",
      "i is  4  k is  6  Results =  24\n",
      "i is  4  k is  7  Results =  28\n",
      "i is  4  k is  8  Results =  32\n",
      "i is  4  k is  9  Results =  36\n",
      "i is  5  k is  1  Results =  5\n",
      "i is  5  k is  2  Results =  10\n",
      "i is  5  k is  3  Results =  15\n",
      "i is  5  k is  4  Results =  20\n",
      "i is  5  k is  5  Results =  25\n",
      "i is  5  k is  6  Results =  30\n",
      "i is  5  k is  7  Results =  35\n",
      "i is  5  k is  8  Results =  40\n",
      "i is  5  k is  9  Results =  45\n"
     ]
    }
   ],
   "source": [
    "for i in range(1,10):\n",
    "\n",
    "    for k in range(1,10):\n",
    "        print(\"i is \", i, \" k is \", k, \" Results = \", i*k)\n",
    "\n",
    "    if i == 5:\n",
    "        break"
   ]
  },
  {
   "cell_type": "code",
   "execution_count": null,
   "id": "7ddc2555-3a66-4e51-a6c4-100590fdccfe",
   "metadata": {},
   "outputs": [],
   "source": [
    "def spam():\n",
    "    eggs = 99\n",
    "    bacon() # it will call bacon \n",
    "    print(eggs)\n",
    "\n",
    "def bacon():\n",
    "    ham = 101\n",
    "    eggs= 0\n",
    "\n",
    "spam()"
   ]
  },
  {
   "cell_type": "code",
   "execution_count": 3,
   "id": "4f8127d8-aac4-457a-95d6-02368bae5d22",
   "metadata": {},
   "outputs": [
    {
     "name": "stdout",
     "output_type": "stream",
     "text": [
      "20\n",
      "10\n"
     ]
    }
   ],
   "source": [
    "def spam():\n",
    "    eggs = 20\n",
    "    print(eggs)\n",
    "\n",
    "eggs = 42\n",
    "spam()\n",
    "\n",
    "eggs = 10\n",
    "print(eggs)"
   ]
  },
  {
   "cell_type": "code",
   "execution_count": 17,
   "id": "dfdc60df-72d5-4766-b8f8-4817949c4bf4",
   "metadata": {},
   "outputs": [
    {
     "name": "stdout",
     "output_type": "stream",
     "text": [
      "21.0\n",
      "3.5\n",
      "Error  You cannot divide something by zero\n"
     ]
    },
    {
     "ename": "NameError",
     "evalue": "name 'divisionByZero' is not defined",
     "output_type": "error",
     "traceback": [
      "\u001b[1;31m---------------------------------------------------------------------------\u001b[0m",
      "\u001b[1;31mZeroDivisionError\u001b[0m                         Traceback (most recent call last)",
      "Cell \u001b[1;32mIn[17], line 4\u001b[0m, in \u001b[0;36mspam\u001b[1;34m(num)\u001b[0m\n\u001b[0;32m      3\u001b[0m \u001b[38;5;28;01mtry\u001b[39;00m:\n\u001b[1;32m----> 4\u001b[0m     result \u001b[38;5;241m=\u001b[39m \u001b[38;5;241m42\u001b[39m\u001b[38;5;241m/\u001b[39mnum\n\u001b[0;32m      5\u001b[0m \u001b[38;5;28;01mexcept\u001b[39;00m:\n",
      "\u001b[1;31mZeroDivisionError\u001b[0m: division by zero",
      "\nDuring handling of the above exception, another exception occurred:\n",
      "\u001b[1;31mNameError\u001b[0m                                 Traceback (most recent call last)",
      "Cell \u001b[1;32mIn[17], line 12\u001b[0m\n\u001b[0;32m     10\u001b[0m \u001b[38;5;28mprint\u001b[39m(spam(\u001b[38;5;241m2\u001b[39m))\n\u001b[0;32m     11\u001b[0m \u001b[38;5;28mprint\u001b[39m(spam(\u001b[38;5;241m12\u001b[39m))\n\u001b[1;32m---> 12\u001b[0m \u001b[38;5;28mprint\u001b[39m(spam(\u001b[38;5;241m0\u001b[39m))\n\u001b[0;32m     13\u001b[0m \u001b[38;5;28mprint\u001b[39m(spam(\u001b[38;5;241m1\u001b[39m))\n",
      "Cell \u001b[1;32mIn[17], line 7\u001b[0m, in \u001b[0;36mspam\u001b[1;34m(num)\u001b[0m\n\u001b[0;32m      5\u001b[0m \u001b[38;5;28;01mexcept\u001b[39;00m:\n\u001b[0;32m      6\u001b[0m     \u001b[38;5;28mprint\u001b[39m(\u001b[38;5;124m\"\u001b[39m\u001b[38;5;124mError\u001b[39m\u001b[38;5;124m\"\u001b[39m, \u001b[38;5;124m\"\u001b[39m\u001b[38;5;124m You cannot divide something by zero\u001b[39m\u001b[38;5;124m\"\u001b[39m)\n\u001b[1;32m----> 7\u001b[0m     result \u001b[38;5;241m=\u001b[39m divisionByZero\n\u001b[0;32m      8\u001b[0m \u001b[38;5;28;01mreturn\u001b[39;00m result\n",
      "\u001b[1;31mNameError\u001b[0m: name 'divisionByZero' is not defined"
     ]
    }
   ],
   "source": [
    "def spam(num):\n",
    "    result = 0\n",
    "    try:\n",
    "        result = 42/num\n",
    "    except:\n",
    "        print(\"Error\", \" You cannot divide something by zero\")\n",
    "    return result\n",
    "\n",
    "print(spam(2))\n",
    "print(spam(12))\n",
    "print(spam(0))\n",
    "print(spam(1))"
   ]
  },
  {
   "cell_type": "code",
   "execution_count": 35,
   "id": "85ee3668-19ba-4f2f-bf30-cf99d6549e71",
   "metadata": {},
   "outputs": [
    {
     "name": "stdin",
     "output_type": "stream",
     "text": [
      "Enter one integer whatever you want:  17\n"
     ]
    },
    {
     "name": "stdout",
     "output_type": "stream",
     "text": [
      "52\n",
      "26\n",
      "13\n",
      "40\n",
      "20\n",
      "10\n",
      "5\n",
      "16\n",
      "8\n",
      "4\n",
      "2\n",
      "1\n"
     ]
    }
   ],
   "source": [
    "def collatz(num):\n",
    "    if num % 2 ==0:\n",
    "        result = num//2\n",
    "    else:\n",
    "        result = (3*num) + 1\n",
    "    print(result)\n",
    "    return result\n",
    "\n",
    "try:\n",
    "    num = int(input(\"Enter one integer whatever you want: \"))\n",
    "    while num !=1:\n",
    "        num = collatz(num)\n",
    "except:\n",
    "    print(\"Invalid Value\")\n"
   ]
  },
  {
   "cell_type": "code",
   "execution_count": null,
   "id": "aa600022-efb8-4cb8-8c84-eee72c26b9d9",
   "metadata": {},
   "outputs": [],
   "source": []
  }
 ],
 "metadata": {
  "kernelspec": {
   "display_name": "Python [conda env:base] *",
   "language": "python",
   "name": "conda-base-py"
  },
  "language_info": {
   "codemirror_mode": {
    "name": "ipython",
    "version": 3
   },
   "file_extension": ".py",
   "mimetype": "text/x-python",
   "name": "python",
   "nbconvert_exporter": "python",
   "pygments_lexer": "ipython3",
   "version": "3.12.7"
  }
 },
 "nbformat": 4,
 "nbformat_minor": 5
}
